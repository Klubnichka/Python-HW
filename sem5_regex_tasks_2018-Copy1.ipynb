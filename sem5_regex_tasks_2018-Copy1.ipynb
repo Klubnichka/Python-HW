{
 "cells": [
  {
   "cell_type": "markdown",
   "metadata": {},
   "source": [
    "# Задания по семинару 5\n",
    "\n",
    "# Регулярные выражения"
   ]
  },
  {
   "cell_type": "code",
   "execution_count": 1,
   "metadata": {
    "collapsed": true
   },
   "outputs": [],
   "source": [
    "import re"
   ]
  },
  {
   "cell_type": "markdown",
   "metadata": {},
   "source": [
    "1) Дана строка"
   ]
  },
  {
   "cell_type": "raw",
   "metadata": {},
   "source": [
    "aaa--bbb==ccc__ddd"
   ]
  },
  {
   "cell_type": "code",
   "execution_count": 42,
   "metadata": {},
   "outputs": [
    {
     "data": {
      "text/plain": [
       "['aaa', 'bbb', 'ccc', 'ddd']"
      ]
     },
     "execution_count": 42,
     "metadata": {},
     "output_type": "execute_result"
    }
   ],
   "source": [
    "a=re.compile(r'[abcd]{3}')\n",
    "s=\"aaa--bbb==ccc__ddd\"\n",
    "a.findall(s)"
   ]
  },
  {
   "cell_type": "markdown",
   "metadata": {},
   "source": [
    "Написать регулярное выражение для разбивки этой строки на список `['aaa','bbb','ccc','ddd']`."
   ]
  },
  {
   "cell_type": "markdown",
   "metadata": {},
   "source": [
    "2) Получить первое слово из произвольной строки.\n",
    "\n",
    "Например, для `'Yesterday, All my troubles seemed so far away'` должно возвращаться `'Yesterday'`."
   ]
  },
  {
   "cell_type": "markdown",
   "metadata": {},
   "source": [
    "3) Получить последнее слово из произвольной строки."
   ]
  },
  {
   "cell_type": "markdown",
   "metadata": {},
   "source": [
    "4) В следующем отрывке найти все слова, которые начинаются на гласную букву:"
   ]
  },
  {
   "cell_type": "code",
   "execution_count": 39,
   "metadata": {},
   "outputs": [],
   "source": [
    "text = '''My uncle -- high ideals inspire him;\n",
    "but when past joking he fell sick,\n",
    "he really forced one to admire him --\n",
    " and never played a shrewder trick.\n",
    "Let others learn from his example!\n",
    "But God, how deadly dull to sample\n",
    "sickroom attendance night and day\n",
    " and never stir a foot away!'''"
   ]
  },
  {
   "cell_type": "code",
   "execution_count": 40,
   "metadata": {},
   "outputs": [
    {
     "data": {
      "text/plain": [
       "[' uncle',\n",
       " ' ideals',\n",
       " ' inspire',\n",
       " ' one',\n",
       " ' admire',\n",
       " ' and',\n",
       " ' a',\n",
       " ' others',\n",
       " ' example',\n",
       " ' attendance',\n",
       " ' and',\n",
       " ' and',\n",
       " ' a',\n",
       " ' away']"
      ]
     },
     "execution_count": 40,
     "metadata": {},
     "output_type": "execute_result"
    }
   ],
   "source": [
    "a=re.compile(r'\\s[aeiou][a-zA-Z]{0,9}', re.I)\n",
    "a.findall(text)"
   ]
  },
  {
   "cell_type": "markdown",
   "metadata": {},
   "source": [
    "\n",
    "5) В отрывке из задания 4) найти первое слово каждой строки."
   ]
  },
  {
   "cell_type": "code",
   "execution_count": 41,
   "metadata": {},
   "outputs": [
    {
     "data": {
      "text/plain": [
       "['\\nbut', '\\nhe', '\\n', '\\nLet', '\\nBut', '\\nsickroom', '\\n']"
      ]
     },
     "execution_count": 41,
     "metadata": {},
     "output_type": "execute_result"
    }
   ],
   "source": [
    "a=re.compile(r'[\\n][a-zA-Z]{0,}', re.I)\n",
    "a.findall(text)"
   ]
  },
  {
   "cell_type": "markdown",
   "metadata": {},
   "source": [
    "6) Проверить корректность введенного email.\n",
    "\n",
    "Считать email корректным, у которого в имени почтового ящика не более 25 латинских букв или цифр, а доменная часть состоит из двух доменов, разделеных точкой. В домене верхнего уровня от 2 до 6 латинских символов, а в домене второго уровня - от 3 до 10 латинских символов."
   ]
  },
  {
   "cell_type": "code",
   "execution_count": 21,
   "metadata": {},
   "outputs": [
    {
     "name": "stdout",
     "output_type": "stream",
     "text": [
      "ggy/ftuy.gf@hml\n",
      "Hеправильно\n"
     ]
    }
   ],
   "source": [
    "a=re.compile(r'[a-zA-Z0-9_]{0,24}[@][a-zA-Z]{2,9}[.][a-zA-Z]{1,5}')\n",
    "s=input()\n",
    "if a.search(s):\n",
    "    print(\"Kорректно\")\n",
    "else:\n",
    "    print(\"Hеправильно\")"
   ]
  },
  {
   "cell_type": "markdown",
   "metadata": {},
   "source": [
    "7) В следующей строке найти все email-адреса и вывести только доменные имена. Описание того, что считается корректным электронным адресом, взять из задания 6)."
   ]
  },
  {
   "cell_type": "code",
   "execution_count": 10,
   "metadata": {
    "collapsed": true
   },
   "outputs": [],
   "source": [
    "s = 'test@test.ru ru.wikipedia.org mail@mail.com ref 123456789_adfasfd@mail.ru'"
   ]
  },
  {
   "cell_type": "code",
   "execution_count": 20,
   "metadata": {},
   "outputs": [
    {
     "data": {
      "text/plain": [
       "['@test.ru', '@mail.com', '@mail.ru']"
      ]
     },
     "execution_count": 20,
     "metadata": {},
     "output_type": "execute_result"
    }
   ],
   "source": [
    "a=re.compile(r'[@][a-zA-Z]{2,9}[.][a-zA-Z]{1,5}')\n",
    "s='test@test.ru ru.wikipedia.org mail@mail.com ref 123456789_adfasfd@mail.ru'\n",
    "a.findall(s)"
   ]
  },
  {
   "cell_type": "markdown",
   "metadata": {},
   "source": [
    "8) Проверить корректность введенного номера мобильного телефона. Корректными номерами считаются:"
   ]
  },
  {
   "cell_type": "raw",
   "metadata": {},
   "source": [
    "+7(999)999-99-99\n",
    "+7 (999) 999-99-99\n",
    "+7 999 999-99-99\n",
    "+7 999 999 99 99\n",
    "+79999999999"
   ]
  },
  {
   "cell_type": "code",
   "execution_count": 18,
   "metadata": {},
   "outputs": [
    {
     "name": "stdout",
     "output_type": "stream",
     "text": [
      "Введите номер телефона: +79787346188\n",
      "Верно\n"
     ]
    }
   ],
   "source": [
    "s=input(\"Введите номер телефона: \")\n",
    "\n",
    "p=re.compile('\\+7\\s?\\(?\\d{3}\\)?\\s?\\d{3}[ \\-]?\\d{2}[ \\-]?\\d{2}')\n",
    "\n",
    "if p.match(s):\n",
    "    print('Верно')\n",
    "else:\n",
    "    print('Ошибка!')"
   ]
  },
  {
   "cell_type": "code",
   "execution_count": null,
   "metadata": {},
   "outputs": [],
   "source": []
  }
 ],
 "metadata": {
  "kernelspec": {
   "display_name": "Python 3",
   "language": "python",
   "name": "python3"
  },
  "language_info": {
   "codemirror_mode": {
    "name": "ipython",
    "version": 3
   },
   "file_extension": ".py",
   "mimetype": "text/x-python",
   "name": "python",
   "nbconvert_exporter": "python",
   "pygments_lexer": "ipython3",
   "version": "3.6.5"
  }
 },
 "nbformat": 4,
 "nbformat_minor": 2
}
