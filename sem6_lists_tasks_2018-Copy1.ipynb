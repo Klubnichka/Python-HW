{
 "cells": [
  {
   "cell_type": "markdown",
   "metadata": {},
   "source": [
    "# Задания по семинару 6\n",
    "\n",
    "# Списки"
   ]
  },
  {
   "cell_type": "markdown",
   "metadata": {},
   "source": [
    "1) Создать список, состоящий из нечетных чисел от 5 до 25."
   ]
  },
  {
   "cell_type": "code",
   "execution_count": 7,
   "metadata": {},
   "outputs": [
    {
     "data": {
      "text/plain": [
       "[5, 7, 9, 11, 13, 15, 17, 19, 21, 23, 25]"
      ]
     },
     "execution_count": 7,
     "metadata": {},
     "output_type": "execute_result"
    }
   ],
   "source": [
    "lst=list(range(5,26,2))\n",
    "lst"
   ]
  },
  {
   "cell_type": "markdown",
   "metadata": {},
   "source": [
    "2) Создать список из чисел 31, 24, 17 тремя способами:\n",
    "- перечисление,\n",
    "- на основе другого списка (по сути, создать копию списка),\n",
    "- с помощью функции ``range``.\n",
    "\n",
    "Вывести списки на экран.\n",
    "\n",
    "Создать и вывести на экран список, состоящий из полученных списков (список списков)."
   ]
  },
  {
   "cell_type": "code",
   "execution_count": 9,
   "metadata": {},
   "outputs": [
    {
     "data": {
      "text/plain": [
       "[31, 24, 17]"
      ]
     },
     "execution_count": 9,
     "metadata": {},
     "output_type": "execute_result"
    }
   ],
   "source": [
    "lst1=[31,24,17]\n",
    "lst1"
   ]
  },
  {
   "cell_type": "code",
   "execution_count": 12,
   "metadata": {},
   "outputs": [
    {
     "data": {
      "text/plain": [
       "[31, 24, 17]"
      ]
     },
     "execution_count": 12,
     "metadata": {},
     "output_type": "execute_result"
    }
   ],
   "source": [
    "lst2=list(lst1)\n",
    "lst2"
   ]
  },
  {
   "cell_type": "code",
   "execution_count": 13,
   "metadata": {},
   "outputs": [
    {
     "data": {
      "text/plain": [
       "[31, 24, 17]"
      ]
     },
     "execution_count": 13,
     "metadata": {},
     "output_type": "execute_result"
    }
   ],
   "source": [
    "lst3=list(range(31,16,-7))\n",
    "lst3"
   ]
  },
  {
   "cell_type": "markdown",
   "metadata": {},
   "source": [
    "3) Создать список из 10 членов геометрической прогрессии со знаменателем 3 начинающейся с 2."
   ]
  },
  {
   "cell_type": "code",
   "execution_count": 21,
   "metadata": {},
   "outputs": [
    {
     "data": {
      "text/plain": [
       "[2, 6, 18, 54, 162, 486, 1458, 4374, 13122, 39366]"
      ]
     },
     "execution_count": 21,
     "metadata": {},
     "output_type": "execute_result"
    }
   ],
   "source": [
    "lst4=[2]\n",
    "a=3\n",
    "for i in range(1,10):\n",
    "    lst4.append (a*lst4[i-1])\n",
    "lst4\n",
    "    "
   ]
  },
  {
   "cell_type": "markdown",
   "metadata": {},
   "source": [
    "4) Создать и вывести на экран список из всех цифр, встречающихся в введенной пользователем строке. Например:"
   ]
  },
  {
   "cell_type": "raw",
   "metadata": {},
   "source": [
    "'fghio345jkw23ihi2' -> [3, 4, 5, 2, 3, 2]"
   ]
  },
  {
   "cell_type": "code",
   "execution_count": 30,
   "metadata": {},
   "outputs": [
    {
     "name": "stdout",
     "output_type": "stream",
     "text": [
      "fghio345jkw23ihi2\n"
     ]
    },
    {
     "data": {
      "text/plain": [
       "[0, 1, 2, 3, 4, 5, 6, 7, 8, 9]"
      ]
     },
     "execution_count": 30,
     "metadata": {},
     "output_type": "execute_result"
    }
   ],
   "source": [
    "s=str(input())\n",
    "lst5=[]\n",
    "lst6=[]\n",
    "for i in range(0,len(s)+1,1):\n",
    "    lst5.append(i)  \n",
    "for j in range(0,10,1):\n",
    "    if j in lst5:\n",
    "        lst6.append(j) \n",
    "lst6\n",
    "\n",
    "        "
   ]
  },
  {
   "cell_type": "markdown",
   "metadata": {},
   "source": [
    "5) Создать список из всех слов имеющихся во введенной пользователем строке. Например:"
   ]
  },
  {
   "cell_type": "raw",
   "metadata": {},
   "source": [
    "'Hello, my friend! How are you?' -> ['Hello', 'my', 'friend', 'How', 'are', 'you']"
   ]
  },
  {
   "cell_type": "markdown",
   "metadata": {},
   "source": [
    "6) Дан список с произвольным количеством элементов. Если в заданный список входит слово ``\"repeat\"``, а последний элемент списка - это число, то продублировать все элементы списка, кроме двух последних. Количество копий соответствует числу, являющимся последним элементов списка. Последние два элемента списка просто добавляются в конец нового списка (без дублирования). Например:"
   ]
  },
  {
   "cell_type": "raw",
   "metadata": {},
   "source": [
    "['input', 'repeat', 'string', 2] -> ['input', 'repeat', 'input', 'repeat', 'string', 2]"
   ]
  },
  {
   "cell_type": "markdown",
   "metadata": {},
   "source": [
    "7) Запросить у пользователя две произвольные строки. Создать список, который состоит из введенных пользователем строк, их длин и результата проверки соблюдения лексикографического порядка (идет ли первая строка раньше второй).\n",
    "\n",
    "Запросить у пользователя, что он хочет узнать, и записать это в переменную ``output``. Возможны два варианта: ``'lengths'`` и ``'order'``. В зависимости от значения ``output`` путем обращения к элементам созданного ранее списка выводить либо длины строк (``output='lengths'``, в формате ``\"Длины строк: 4 и 5\"``), либо описание порядка (``output='order'``, в формате ``\"Строка 'первая' идет ПОСЛЕ строки 'вторая'\"``)."
   ]
  },
  {
   "cell_type": "markdown",
   "metadata": {},
   "source": [
    "8) Запросить у пользователя 2 целых положительных числа и сохранить их в переменные ``max_val`` и ``repeat``.\n",
    "\n",
    "Создать список из целых чисел со значениями от ``1`` до ``max_val`` включительно, повторенными ``repeat`` раз.\n",
    "\n",
    "Например, для ``max_val=4``, ``repeat=3``  должен быть создан список: ``[1, 2, 3, 4, 1, 2, 3, 4, 1, 2, 3, 4]``."
   ]
  },
  {
   "cell_type": "markdown",
   "metadata": {},
   "source": [
    "9) Даны два списка произвольной длины, элементами которых являются целые числа. Во втором списке умножить элементы, отсутствующие в первом списке, на 10. (Новые списки создавать нельзя, необходимо изменить существующий.)"
   ]
  },
  {
   "cell_type": "code",
   "execution_count": null,
   "metadata": {},
   "outputs": [],
   "source": []
  },
  {
   "cell_type": "markdown",
   "metadata": {},
   "source": [
    "10) Из произвольной строки создать список. Вместо каждой буквы ``\"s\"`` (без учета регистра), стоящей не на первом и не на последнем месте, вставить в список строку из удвоенного предыдущего символа и одного следующего.\n",
    "\n",
    "Например:"
   ]
  },
  {
   "cell_type": "raw",
   "metadata": {},
   "source": [
    "\"test_Stringss\" -> ['t', 'e', 'eet', 't', '_', '__t', 't', 'r', 'i', 'n', 'g', 'ggs', 's']"
   ]
  },
  {
   "cell_type": "markdown",
   "metadata": {},
   "source": [
    "11) Запросить у пользователя целое положительное число. Данное число - это длина списка.\n",
    "\n",
    "Организовать заполнение списка заданной длины пользовательскими значениями, полученными с помощью функции ``input``."
   ]
  },
  {
   "cell_type": "code",
   "execution_count": 26,
   "metadata": {},
   "outputs": [
    {
     "name": "stdout",
     "output_type": "stream",
     "text": [
      "10\n",
      "1\n",
      "j\n",
      "78\n",
      "h\n",
      "34\n",
      "6877\n",
      "jk\n",
      "huigi\n",
      "t\n",
      "8\n"
     ]
    },
    {
     "data": {
      "text/plain": [
       "['1', 'j', '78', 'h', '34', '6877', 'jk', 'huigi', 't', '8']"
      ]
     },
     "execution_count": 26,
     "metadata": {},
     "output_type": "execute_result"
    }
   ],
   "source": [
    "l=int(input())\n",
    "lst12=[]\n",
    "for i in range(1,l+1,1):\n",
    "    lst12.append(input())\n",
    "lst12"
   ]
  },
  {
   "cell_type": "markdown",
   "metadata": {
    "collapsed": true
   },
   "source": [
    "12) Написать програмный код, который генерирует вложнный список образующий единичную матрицу 4 на 4. Результат работы алгоритма:"
   ]
  },
  {
   "cell_type": "raw",
   "metadata": {},
   "source": [
    "[[1, 0, 0, 0],\n",
    " [0, 1, 0, 0],\n",
    " [0, 0, 1, 0],\n",
    " [0, 0, 0, 1]]"
   ]
  },
  {
   "cell_type": "code",
   "execution_count": 6,
   "metadata": {},
   "outputs": [
    {
     "data": {
      "text/plain": [
       "[[1, 0, 0, 0], [0, 1, 0, 0], [0, 0, 1, 0], [0, 0, 0, 1]]"
      ]
     },
     "execution_count": 6,
     "metadata": {},
     "output_type": "execute_result"
    }
   ],
   "source": [
    "lst=[[1,1,1,1],[1,1,1,1],[1,1,1,1],[1,1,1,1]]\n",
    "for i in range(0,4):\n",
    "    for j in range(0,4):\n",
    "        if i==j:\n",
    "            lst[i][j]=1\n",
    "        else:\n",
    "            lst[i][j]=0\n",
    "lst"
   ]
  },
  {
   "cell_type": "markdown",
   "metadata": {},
   "source": [
    "13) В списке целых чисел найти произведение всех чисел, больших чем 10 и меньших чем 20, за исключением 13. Проверить на списке ``[2, 11, 21, 16, 7, 13, 18, 12]`` (ответ: 38016)."
   ]
  },
  {
   "cell_type": "code",
   "execution_count": 7,
   "metadata": {},
   "outputs": [
    {
     "data": {
      "text/plain": [
       "38016"
      ]
     },
     "execution_count": 7,
     "metadata": {},
     "output_type": "execute_result"
    }
   ],
   "source": [
    "lst=[2, 11, 21, 16, 7, 13, 18, 12]\n",
    "a=1\n",
    "for i in lst:\n",
    "    if 20 > i > 10 and i != 13:\n",
    "        a=a*i\n",
    "a"
   ]
  },
  {
   "cell_type": "markdown",
   "metadata": {},
   "source": [
    "14) Дан целочисленный список. На его основе создать новый список, в котором все отрицательные числа исходного списка заменены на их индекс, а остальные элементы сохранены на своих местах."
   ]
  },
  {
   "cell_type": "code",
   "execution_count": 8,
   "metadata": {},
   "outputs": [
    {
     "data": {
      "text/plain": [
       "[1, 3, 2, 0, 4, 12, 354, 7, 33, 1920973, 2]"
      ]
     },
     "execution_count": 8,
     "metadata": {},
     "output_type": "execute_result"
    }
   ],
   "source": [
    "lst=[1,3,-43,0,-16,12,354,-4,33,1920973,2]\n",
    "k=0\n",
    "for i in lst:\n",
    "    if i < 0:\n",
    "        lst[k]=k\n",
    "    k=k+1\n",
    "lst"
   ]
  },
  {
   "cell_type": "markdown",
   "metadata": {},
   "source": [
    "15) Убрать все дубликаты в списке."
   ]
  },
  {
   "cell_type": "code",
   "execution_count": 9,
   "metadata": {},
   "outputs": [
    {
     "data": {
      "text/plain": [
       "[1, 3, 2, 0, 4, 12, 354, 7, 33, 1920973]"
      ]
     },
     "execution_count": 9,
     "metadata": {},
     "output_type": "execute_result"
    }
   ],
   "source": [
    "lst1=[]\n",
    "for i in lst:\n",
    "    if i in lst1:\n",
    "        continue\n",
    "    else:\n",
    "        lst1.append(i)\n",
    "lst1"
   ]
  },
  {
   "cell_type": "markdown",
   "metadata": {},
   "source": [
    "16) Дан список чисел. Найти элемент, следующий за минимальным в порядке возрастания («второй минимум»). Например, для списка ``lst = [1, 2, 3, 1, 2, 5, 6, 6, 7, 8]`` второй минимум - это 2."
   ]
  },
  {
   "cell_type": "code",
   "execution_count": 11,
   "metadata": {},
   "outputs": [
    {
     "data": {
      "text/plain": [
       "-20"
      ]
     },
     "execution_count": 11,
     "metadata": {},
     "output_type": "execute_result"
    }
   ],
   "source": [
    "lst=[1, -20, 3443, 22, -27287, 276]\n",
    "a=min(lst)\n",
    "b=max(lst)\n",
    "for i in lst:\n",
    "    if a<i<b:\n",
    "        b=i\n",
    "b\n"
   ]
  },
  {
   "cell_type": "markdown",
   "metadata": {},
   "source": [
    "## 17) Заданы две заранее неизвестные строки, в которых слова разделены пробелами. Из этих двух строк составить одну новую, в которой слова из первой и второй строки будут чередоваться, при этом порядок слов будет сохранен. Если количество слов в строках различное, то закончить создание результирующей строки, как только слова в одной из исходных строк закончатся. Для преобразований использовать списки слов.\n",
    "\n",
    "Например:"
   ]
  },
  {
   "cell_type": "raw",
   "metadata": {},
   "source": [
    "s1 = 'один два три'\n",
    "s2 = 'альфа бетта гамма'\n",
    "\n",
    "result = 'один альфа два бетта три гамма'"
   ]
  },
  {
   "cell_type": "markdown",
   "metadata": {},
   "source": [
    "17.1) Решить задачу, используя функцию ``zip``."
   ]
  },
  {
   "cell_type": "markdown",
   "metadata": {},
   "source": [
    "18) Выполнить циклический сдвиг слов в произвольной строке (слова разделены пробелами) на заданное пользователем число слов.  Решить с помощью списков слов.\n",
    "\n",
    "Например:"
   ]
  },
  {
   "cell_type": "raw",
   "metadata": {},
   "source": [
    "\"один два три четыре пять шесть семь\", 3 -> \"четыре пять шесть семь один два три\""
   ]
  },
  {
   "cell_type": "markdown",
   "metadata": {},
   "source": [
    "19) В списке целых чисел из диапозона от 1 до 20 заменить все числа, не являющиеся простыми, на составляющие их простые множители (которые включаются в виде вложенного списка на место исключаемого числа). Кратные простые множетели добавлять количество раз, составляющее их кратность в исходном числе.\n",
    "\n",
    "Например:"
   ]
  },
  {
   "cell_type": "raw",
   "metadata": {},
   "source": [
    "[3, 6, 7, 12] -> [3, [2, 3], 7, [2, 2, 3]]"
   ]
  },
  {
   "cell_type": "code",
   "execution_count": null,
   "metadata": {
    "collapsed": true
   },
   "outputs": [],
   "source": []
  }
 ],
 "metadata": {
  "kernelspec": {
   "display_name": "Python 3",
   "language": "python",
   "name": "python3"
  },
  "language_info": {
   "codemirror_mode": {
    "name": "ipython",
    "version": 3
   },
   "file_extension": ".py",
   "mimetype": "text/x-python",
   "name": "python",
   "nbconvert_exporter": "python",
   "pygments_lexer": "ipython3",
   "version": "3.6.5"
  }
 },
 "nbformat": 4,
 "nbformat_minor": 2
}
